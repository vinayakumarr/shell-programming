{
  "nbformat": 4,
  "nbformat_minor": 0,
  "metadata": {
    "colab": {
      "name": "Python-programs.ipynb",
      "provenance": [],
      "collapsed_sections": []
    },
    "kernelspec": {
      "name": "python3",
      "display_name": "Python 3"
    },
    "language_info": {
      "name": "python"
    }
  },
  "cells": [
    {
      "cell_type": "code",
      "execution_count": 1,
      "metadata": {
        "colab": {
          "base_uri": "https://localhost:8080/"
        },
        "id": "vBQpGc4qxKVZ",
        "outputId": "e74d7c07-6896-4299-bbdc-68cad3a71833"
      },
      "outputs": [
        {
          "output_type": "stream",
          "name": "stdout",
          "text": [
            "Enter radius : 10\n",
            "The area of the circle with radius  10.0 is  314.0\n"
          ]
        }
      ],
      "source": [
        "#Program which accepts the radius of a circle from the user and compute the area\n",
        "pi = 3.14\n",
        "while True: \n",
        "    try:\n",
        "        rad = input(\"Enter radius : \")\n",
        "        rad = float(rad)\n",
        "        area = pi * rad**2\n",
        "        print('The area of the circle with radius ',rad , 'is ', area)\n",
        "        break\n",
        "    except:\n",
        "        print('Enter a valid radius.')"
      ]
    },
    {
      "cell_type": "code",
      "source": [
        "#Program to check if a number is positive, negative or zero\n",
        "while True:\n",
        "    try:\n",
        "        num = input('Enter a number to check its nature : ')\n",
        "        num = float(num)\n",
        "        if num > 1:\n",
        "            print('positive')\n",
        "        elif num < 1:\n",
        "            print('negetive')\n",
        "        elif num == 0:\n",
        "            print('zero')\n",
        "        break\n",
        "    except:\n",
        "        print('Invalid entry.')"
      ],
      "metadata": {
        "colab": {
          "base_uri": "https://localhost:8080/"
        },
        "id": "Zf7KTF7IxQU7",
        "outputId": "53b3002d-6a3d-4f3e-e2ca-5c85d1e7e5ae"
      },
      "execution_count": 2,
      "outputs": [
        {
          "output_type": "stream",
          "name": "stdout",
          "text": [
            "Enter a number to check its nature : 10\n",
            "positive\n"
          ]
        }
      ]
    },
    {
      "cell_type": "code",
      "source": [
        "#Program that accepts an integer (n) and computes the value of (n+nn+nnn)\n",
        "while True:\n",
        "    try:\n",
        "        n = input('Enter a number : ')\n",
        "        n = int(n)\n",
        "        n1 = str(n) + str(n)\n",
        "        n2 = str(n) + str(n) + str(n)\n",
        "        compute = n + int(n1) + int(n2)\n",
        "        print('n + n n + n n n = ' , n , '+' , n , n , '+' , n , n , n , '=' , compute)\n",
        "        break\n",
        "    except:\n",
        "        print('Invalid entry. The number should be an integer.')"
      ],
      "metadata": {
        "colab": {
          "base_uri": "https://localhost:8080/"
        },
        "id": "CJVnvu15xbvz",
        "outputId": "b73379ef-a53d-4ced-d53a-573037ee716d"
      },
      "execution_count": 3,
      "outputs": [
        {
          "output_type": "stream",
          "name": "stdout",
          "text": [
            "Enter a number : 10\n",
            "n + n n + n n n =  10 + 10 10 + 10 10 10 = 102030\n"
          ]
        }
      ]
    },
    {
      "cell_type": "code",
      "source": [
        "#program to test whether a passed letter is a vowel or not\n",
        "def main():\n",
        "        letter = input('Enter a letter to check if its a vowel or not : ')\n",
        "        check(letter)\n",
        "def check(let):\n",
        "    if let == 'a' or let == 'e' or let == 'i' or let == 'o' or let == 'u' or let =='A' or let == 'E' or let == 'I' or let == 'O' or let == 'U':\n",
        "        print('The letter is a vowel')\n",
        "    else:\n",
        "        print('The letter is not a vowel')\n",
        "main()"
      ],
      "metadata": {
        "colab": {
          "base_uri": "https://localhost:8080/"
        },
        "id": "p2iGVMRoxmo7",
        "outputId": "295e2be5-891c-499d-e0f2-f257f5de8cc0"
      },
      "execution_count": 4,
      "outputs": [
        {
          "output_type": "stream",
          "name": "stdout",
          "text": [
            "Enter a letter to check if its a vowel or not : vinay\n",
            "The letter is not a vowel\n"
          ]
        }
      ]
    },
    {
      "cell_type": "code",
      "source": [
        "#program to convert temperatures to and from Celsius, Fahrenheit\n",
        "def main():\n",
        "    while True:\n",
        "        try:\n",
        "            print('Enter an option from the menu: \\n1. Fahrenheit to celcius\\n2. Celcius to Fahrenheit')\n",
        "            option = int(input('---------------------------------------------------------------\\n'))\n",
        "            if option == 1:\n",
        "                f2c()\n",
        "            elif option == 2:\n",
        "                c2f()\n",
        "            break\n",
        "        except:\n",
        "            print('Invalid entry, enter again.')\n",
        "def f2c():\n",
        "    print('---------------------------------------------------------\\nFahrenheit to Celcius ')\n",
        "    temp = float(input('enter temperature : '))\n",
        "    ctemp = (32 * temp - 32) * 5/9\n",
        "    print('Temperature in celcius :' , ctemp)\n",
        "def c2f():\n",
        "    print('----------------------------------------------------------\\nCelcius to Fahrenheit ')\n",
        "    temp = float(input('enter temperature : '))\n",
        "    ftemp = (temp * 9/5) + 32\n",
        "    print('Temperature in fahrenheit :' , ftemp)\n",
        "main()"
      ],
      "metadata": {
        "colab": {
          "base_uri": "https://localhost:8080/"
        },
        "id": "bwhLEcyXyEu-",
        "outputId": "e79d9a87-b0e8-4dbd-b1d5-9f6454af4ae8"
      },
      "execution_count": 5,
      "outputs": [
        {
          "name": "stdout",
          "output_type": "stream",
          "text": [
            "Enter an option from the menu: \n",
            "1. Fahrenheit to celcius\n",
            "2. Celcius to Fahrenheit\n",
            "---------------------------------------------------------------\n",
            "5\n"
          ]
        }
      ]
    },
    {
      "cell_type": "code",
      "source": [
        "# count vowels / consonants ----\n",
        "print('To count vowels / consonants.')\n",
        "string = input('Enter string: ')\n",
        "string = string.lower()\n",
        "vowelcount = 0\n",
        "consonantcount = 0\n",
        "for s in string :\n",
        "    if s == 'a' or s == 'e' or s == 'i' or s == 'o' or s == 'u' :\n",
        "        vowelcount += 1\n",
        "    else: \n",
        "        consonantcount +=1 \n",
        "print('number of vowels : ',vowelcount,'\\nnumber of consonants : ',consonantcount)"
      ],
      "metadata": {
        "colab": {
          "base_uri": "https://localhost:8080/"
        },
        "id": "vYriMiZSykMx",
        "outputId": "ae7dd267-6d2d-431d-b918-af1323c9ffd4"
      },
      "execution_count": 6,
      "outputs": [
        {
          "output_type": "stream",
          "name": "stdout",
          "text": [
            "To count vowels / consonants.\n",
            "Enter string: vinay\n",
            "number of vowels :  2 \n",
            "number of consonants :  3\n"
          ]
        }
      ]
    },
    {
      "cell_type": "code",
      "source": [
        "#---- Pattern with nested loop ----\n",
        "for row in range(10) :\n",
        "    for col in range (row):\n",
        "        print(row , end=\"\")\n",
        "    print(\"\")"
      ],
      "metadata": {
        "colab": {
          "base_uri": "https://localhost:8080/"
        },
        "id": "J91k1c_jy6Rl",
        "outputId": "428fc985-5767-4f73-9aef-8a58dc891eb9"
      },
      "execution_count": 7,
      "outputs": [
        {
          "output_type": "stream",
          "name": "stdout",
          "text": [
            "\n",
            "1\n",
            "22\n",
            "333\n",
            "4444\n",
            "55555\n",
            "666666\n",
            "7777777\n",
            "88888888\n",
            "999999999\n"
          ]
        }
      ]
    },
    {
      "cell_type": "code",
      "source": [
        "#---- pattern with nested loop ----\n",
        "for row in range(1, 6):\n",
        "    for col in range(1, row+1):\n",
        "        print(col, end ='')\n",
        "    print(\"\")\n",
        "for row in range(4, 0, -1):\n",
        "    for col in range(1, row + 1):\n",
        "        print(col, end ='')\n",
        "    print(\"\")"
      ],
      "metadata": {
        "colab": {
          "base_uri": "https://localhost:8080/"
        },
        "id": "-6HzxEcCzDdH",
        "outputId": "a81be2e7-b023-4251-f964-f9cf716847ef"
      },
      "execution_count": 8,
      "outputs": [
        {
          "output_type": "stream",
          "name": "stdout",
          "text": [
            "1\n",
            "12\n",
            "123\n",
            "1234\n",
            "12345\n",
            "1234\n",
            "123\n",
            "12\n",
            "1\n"
          ]
        }
      ]
    },
    {
      "cell_type": "code",
      "source": [
        "#---- pattern with nested loop ----\n",
        "for row in range(1, 6):\n",
        "    for col in range(1, row+1):\n",
        "        print('*', end ='')\n",
        "    print(\"\")\n",
        "for row in range(4, 0, -1):\n",
        "    for col in range(1, row + 1):\n",
        "        print('*', end ='')\n",
        "    print(\"\")"
      ],
      "metadata": {
        "colab": {
          "base_uri": "https://localhost:8080/"
        },
        "id": "cj0fXzbmzHDy",
        "outputId": "eda087ca-415d-4510-b630-c86d2ee18fbe"
      },
      "execution_count": 9,
      "outputs": [
        {
          "output_type": "stream",
          "name": "stdout",
          "text": [
            "*\n",
            "**\n",
            "***\n",
            "****\n",
            "*****\n",
            "****\n",
            "***\n",
            "**\n",
            "*\n"
          ]
        }
      ]
    },
    {
      "cell_type": "code",
      "source": [
        "\n",
        "#---- program that accepts a string and calculate the number of digits and letters ----\n",
        "print('To count letters and digits in a given string')\n",
        "string = input('Enter string : ')\n",
        "digits = 0\n",
        "letters = 0\n",
        "for s in string :\n",
        "    if s.isdigit() :\n",
        "        digits += 1\n",
        "    elif s.isalpha() :\n",
        "        letters += 1\n",
        "print('Letters : ',letters ,'\\nDigits : ',digits)"
      ],
      "metadata": {
        "colab": {
          "base_uri": "https://localhost:8080/"
        },
        "id": "iDBhm8fmzKRF",
        "outputId": "6c1b80cc-f96a-45e3-9d53-bf2db7258001"
      },
      "execution_count": 10,
      "outputs": [
        {
          "output_type": "stream",
          "name": "stdout",
          "text": [
            "To count letters and digits in a given string\n",
            "Enter string : vinay77\n",
            "Letters :  5 \n",
            "Digits :  2\n"
          ]
        }
      ]
    },
    {
      "cell_type": "code",
      "source": [
        "#---- program to create the multiplication table (from 1 to 10) of a number ---\n",
        "print('Multiplicaion table (1 to 10)')\n",
        "num = int(input('Enter a number to see its table : '))\n",
        "for i in range(1, 11) :\n",
        "    print(num , 'x' , i ,'=' , num * i )"
      ],
      "metadata": {
        "colab": {
          "base_uri": "https://localhost:8080/"
        },
        "id": "V540_KPVzNcG",
        "outputId": "d83c5fa3-e345-4eca-e611-8d75248c9279"
      },
      "execution_count": 11,
      "outputs": [
        {
          "output_type": "stream",
          "name": "stdout",
          "text": [
            "Multiplicaion table (1 to 10)\n",
            "Enter a number to see its table : 5\n",
            "5 x 1 = 5\n",
            "5 x 2 = 10\n",
            "5 x 3 = 15\n",
            "5 x 4 = 20\n",
            "5 x 5 = 25\n",
            "5 x 6 = 30\n",
            "5 x 7 = 35\n",
            "5 x 8 = 40\n",
            "5 x 9 = 45\n",
            "5 x 10 = 50\n"
          ]
        }
      ]
    },
    {
      "cell_type": "code",
      "source": [
        "#---- program to get the Fibonacci series between 0 to 50 ----\n",
        "print('The Fibonacci series')\n",
        "num = int(input('Enter the number of digits that you want in the series : '))\n",
        "first = 0\n",
        "second = 1\n",
        "nextnum = 0\n",
        "print(first , second , end=' ')\n",
        "for num in range(2, num) :\n",
        "    nextnum = first + second\n",
        "    print(nextnum , end = ' ')\n",
        "    first = second \n",
        "    second = nextnum "
      ],
      "metadata": {
        "colab": {
          "base_uri": "https://localhost:8080/"
        },
        "id": "bQWSTCu1zUId",
        "outputId": "680a8a9b-326c-4161-fb0c-bd5e8ff6dda5"
      },
      "execution_count": 12,
      "outputs": [
        {
          "output_type": "stream",
          "name": "stdout",
          "text": [
            "The Fibonacci series\n",
            "Enter the number of digits that you want in the series : 5\n",
            "0 1 1 2 3 "
          ]
        }
      ]
    },
    {
      "cell_type": "code",
      "source": [
        "#-----------------SUPERMARKET MANAGEMENT SYSTEM--------------------\n",
        "items = []\n",
        "while True:\n",
        "    display = input('Press enter to continue.')\n",
        "    print('------------------Welcome to the supermarket------------------')\n",
        "    print('1. View items\\n2. Add items for sale\\n3. Purchase items\\n4. Search items \\n5. Edit items\\n6. Exit')\n",
        "    choice = input('Enter the number of your choice : ')\n",
        "\n",
        "    if choice == '1' :\n",
        "        print('------------------View Items------------------')\n",
        "        print('The number of items in the inventory are : ',len(items))\n",
        "        while len(items) != 0:\n",
        "            print('Here are all the items available in the supermarket.')\n",
        "            for item in items:\n",
        "                for key, value in item.items():\n",
        "                    print(key, ':', value)\n",
        "            break\n",
        "\n",
        "    elif choice == '2' :\n",
        "        print('------------------Add items------------------')\n",
        "        print('To add an item fill in the form')\n",
        "        # while True:\n",
        "        #     try:\n",
        "        #         number_items = int(input('Enter the number of items you want to add in the inventory : '))\n",
        "        #         break\n",
        "        #     except ValueError:\n",
        "        #         print('Number of items should only be in digits')\n",
        "        # for num in range(number_items):\n",
        "        item = {}\n",
        "        item['name'] = input('Item name : ')\n",
        "        while True:\n",
        "            try:\n",
        "                item['quantity'] = int(input('Item quantity : '))\n",
        "                break\n",
        "            except ValueError:\n",
        "                print('Quantity should only be in digits')\n",
        "        while True:\n",
        "            try:\n",
        "                item['price'] = int(input('Price $ : '))\n",
        "                break\n",
        "            except ValueError:\n",
        "                print('Price should only be in digits')\n",
        "        print('Item has been successfully added.')\n",
        "        items.append(item)\n",
        "\n",
        "    elif choice == '3' :\n",
        "        print('------------------purchase items------------------')\n",
        "        print(items)\n",
        "        purchase_item = input('which item do you want to purchase? Enter name : ')\n",
        "        for item in items:\n",
        "            if purchase_item.lower() == item['name'].lower() :\n",
        "                if item['quantity'] != 0 :\n",
        "                    print('Pay ', item['price'] , 'at checkout counter.')\n",
        "                    item['quantity'] -= 1\n",
        "                else: \n",
        "                    print('item out of stock.')\n",
        "\n",
        "    elif choice == '4' :\n",
        "        print('------------------search items------------------')\n",
        "        find_item = input('Enter the item\\'s name to search in inventory : ')\n",
        "        for item in items:\n",
        "            if item['name'].lower() == find_item.lower():\n",
        "                print('The item named ' + find_item + ' is displayed below with its details')\n",
        "                print(item)\n",
        "            else:\n",
        "                print('item not found.')\n",
        "\n",
        "    elif choice == '5' :\n",
        "        print('------------------edit items------------------')\n",
        "        item_name = input('Enter the name of the item that you want to edit : ')\n",
        "        for item in items:\n",
        "            if item_name.lower() == item['name'].lower():\n",
        "                print('Here are the current details of ' + item_name)\n",
        "                print(item)\n",
        "                item['name'] = input('Item name : ')\n",
        "                while True:\n",
        "                    try:\n",
        "                        item['quantity'] = int(input('Item quantity : '))\n",
        "                        break\n",
        "                    except ValueError:\n",
        "                        print('Quantity should only be in digits')\n",
        "                while True:\n",
        "                    try:\n",
        "                        item['price'] = int(input('Price $ : '))\n",
        "                        break\n",
        "                    except ValueError:\n",
        "                        print('Price should only be in digits')\n",
        "                print('Item has been successfully updated.')\n",
        "                print(item)\n",
        "            else:\n",
        "                print('Item not found')\n",
        "                \n",
        "    elif choice == '6' :\n",
        "        print('------------------exited------------------')\n",
        "        break\n",
        "\n",
        "    else: \n",
        "         print('You entered an invalid option')"
      ],
      "metadata": {
        "colab": {
          "base_uri": "https://localhost:8080/"
        },
        "id": "OqKNnSGHzYHj",
        "outputId": "122b0953-503d-4500-eed1-dc172dd2fbc9"
      },
      "execution_count": 13,
      "outputs": [
        {
          "output_type": "stream",
          "name": "stdout",
          "text": [
            "Press enter to continue.1\n",
            "------------------Welcome to the supermarket------------------\n",
            "1. View items\n",
            "2. Add items for sale\n",
            "3. Purchase items\n",
            "4. Search items \n",
            "5. Edit items\n",
            "6. Exit\n",
            "Enter the number of your choice : 2\n",
            "------------------Add items------------------\n",
            "To add an item fill in the form\n",
            "Item name : laptop\n",
            "Item quantity : 5\n",
            "Price $ : 1000\n",
            "Item has been successfully added.\n",
            "Press enter to continue.1\n",
            "------------------Welcome to the supermarket------------------\n",
            "1. View items\n",
            "2. Add items for sale\n",
            "3. Purchase items\n",
            "4. Search items \n",
            "5. Edit items\n",
            "6. Exit\n",
            "Enter the number of your choice : 1\n",
            "------------------View Items------------------\n",
            "The number of items in the inventory are :  1\n",
            "Here are all the items available in the supermarket.\n",
            "name : laptop\n",
            "quantity : 5\n",
            "price : 1000\n",
            "Press enter to continue.6\n",
            "------------------Welcome to the supermarket------------------\n",
            "1. View items\n",
            "2. Add items for sale\n",
            "3. Purchase items\n",
            "4. Search items \n",
            "5. Edit items\n",
            "6. Exit\n",
            "Enter the number of your choice : 6\n",
            "------------------exited------------------\n"
          ]
        }
      ]
    },
    {
      "cell_type": "code",
      "source": [
        "# Password match the required criteria:\n",
        "def PasswordMatchCriteria(pas):\n",
        "    upper,lower,special,num = 0,0,0,0  \n",
        "    for x in pas:\n",
        "        if (len(pas) >= 6) and (len(pas) <=12):\n",
        "            if x.isupper():\n",
        "                upper+=1\n",
        "            elif x.islower():\n",
        "                lower+=1\n",
        "            elif x.isnumeric():\n",
        "                num +=1\n",
        "            elif x.isspace():\n",
        "                j = 0\n",
        "            else:\n",
        "                special += 1\n",
        "    if (upper > 0) and (lower > 0) and (special > 0) and (num > 0):\n",
        "        return True\n",
        "    else:\n",
        "        False\n",
        "passwords = input(\"Enter Passwords which are seperated by \\\",\\\": \")\n",
        "password = passwords.split(\",\")\n",
        "for i in password:\n",
        "    if PasswordMatchCriteria(i):\n",
        "        print(i)"
      ],
      "metadata": {
        "colab": {
          "base_uri": "https://localhost:8080/"
        },
        "id": "R_06owRlzcC1",
        "outputId": "b2ce1fc5-8b77-4b0a-9b0b-62ff6b3b4141"
      },
      "execution_count": 14,
      "outputs": [
        {
          "output_type": "stream",
          "name": "stdout",
          "text": [
            "Enter Passwords which are seperated by \",\": ABd1234@1\n",
            "ABd1234@1\n"
          ]
        }
      ]
    },
    {
      "cell_type": "code",
      "source": [
        "# Calculate Number of dates between two Dates\n",
        "def DaysBetweenTwoMonths(month1,month2):\n",
        "    days = 0\n",
        "    for i in range(month1+1,month2+1):\n",
        "        if i == 6:\n",
        "            days += 31\n",
        "        elif i == 2:\n",
        "            days += 28\n",
        "        elif i%2 == 0 :\n",
        "            days+=30\n",
        "        else:\n",
        "            days+= 31\n",
        "    return days\n",
        "date1 = input (\"Enter Date in format (dd/mm/yy): \")\n",
        "date2 = input (\"Enter Date in format (dd/mm/yy): \")\n",
        "dt1 = date1.split(\"/\")\n",
        "dt2 = date2.split(\"/\")\n",
        "day1 = int (dt1[0]) \n",
        "day2 = int (dt2[0])\n",
        "month1 = int(dt1[1])\n",
        "month2 = int(dt2[1])\n",
        "year1 = int(dt1[2])\n",
        "year2 = int(dt2[2])\n",
        "days1 = abs(day2-day1)\n",
        "days2 = DaysBetweenTwoMonths(month1,month2)\n",
        "days3 = abs(year2-year1)*365\n",
        "print(\"Total Days between Date: {} and Date: {} is {}\".format(date1,date2,(days1+days2+days3)))"
      ],
      "metadata": {
        "colab": {
          "base_uri": "https://localhost:8080/"
        },
        "id": "92_c1XL1zz3e",
        "outputId": "d3c884b0-97a0-4026-98a5-c6117b5f8f87"
      },
      "execution_count": 15,
      "outputs": [
        {
          "output_type": "stream",
          "name": "stdout",
          "text": [
            "Enter Date in format (dd/mm/yy): 12/12/2018\n",
            "Enter Date in format (dd/mm/yy): 16/12/2018\n",
            "Total Days between Date: 12/12/2018 and Date: 16/12/2018 is 4\n"
          ]
        }
      ]
    },
    {
      "cell_type": "code",
      "source": [
        "# Pyhton Program to construct pattern\n",
        "for i in range(1,6):\n",
        "    for x in range(1,i):\n",
        "        print(\"*\",end=\" \")\n",
        "    print(\"\")\n",
        "for i in range(6,1,-1):\n",
        "    for x in range(1,i):\n",
        "        print(\"*\",end=\" \")\n",
        "    print(\"\")"
      ],
      "metadata": {
        "colab": {
          "base_uri": "https://localhost:8080/"
        },
        "id": "NVuc85tZ033x",
        "outputId": "b24ca5aa-d673-4b76-8370-a57b3b4cdaff"
      },
      "execution_count": 16,
      "outputs": [
        {
          "output_type": "stream",
          "name": "stdout",
          "text": [
            "\n",
            "* \n",
            "* * \n",
            "* * * \n",
            "* * * * \n",
            "* * * * * \n",
            "* * * * \n",
            "* * * \n",
            "* * \n",
            "* \n"
          ]
        }
      ]
    },
    {
      "cell_type": "code",
      "source": [
        "# Pyhton Program to construct pattern\n",
        "for i in range(1,6):\n",
        "    for x in range(1,i):\n",
        "        print(x,end=\" \")\n",
        "    print(\"\")\n",
        "for i in range(6,1,-1):\n",
        "    for x in range(1,i):\n",
        "        print(x,end=\" \")\n",
        "    print(\"\")"
      ],
      "metadata": {
        "colab": {
          "base_uri": "https://localhost:8080/"
        },
        "id": "kP8j-zQf1Ajj",
        "outputId": "6055a2cf-3322-493f-d20d-bde95b58a132"
      },
      "execution_count": 17,
      "outputs": [
        {
          "output_type": "stream",
          "name": "stdout",
          "text": [
            "\n",
            "1 \n",
            "1 2 \n",
            "1 2 3 \n",
            "1 2 3 4 \n",
            "1 2 3 4 5 \n",
            "1 2 3 4 \n",
            "1 2 3 \n",
            "1 2 \n",
            "1 \n"
          ]
        }
      ]
    },
    {
      "cell_type": "code",
      "source": [
        "# Pyhton Program to construct pattern\n",
        "n = int(input (\"Enter Number: \"))\n",
        "for i in range(1,n+1):\n",
        "    for x in range(1,i+1):\n",
        "        print(i,end=\" \")\n",
        "    print(\"\")"
      ],
      "metadata": {
        "colab": {
          "base_uri": "https://localhost:8080/"
        },
        "id": "Utl5mndT1EVc",
        "outputId": "b15767df-2c8e-4683-c6c0-42e9f0954fdd"
      },
      "execution_count": 19,
      "outputs": [
        {
          "output_type": "stream",
          "name": "stdout",
          "text": [
            "Enter Number: 6\n",
            "1 \n",
            "2 2 \n",
            "3 3 3 \n",
            "4 4 4 4 \n",
            "5 5 5 5 5 \n",
            "6 6 6 6 6 6 \n"
          ]
        }
      ]
    },
    {
      "cell_type": "code",
      "source": [
        "def createMatrix():\n",
        "  _matrix = []\n",
        " \n",
        "  ms=int(input(\"Enter no. of matrices to create: \"))\n",
        " \n",
        "  for i in range(ms):\n",
        "    print(\"\\nMatrix %i\"%(i+1))\n",
        "    r=int(input(\"\\tEnter no. of rows: \"))\n",
        "    c=int(input(\"\\tEnter no. of columns: \"))\n",
        " \n",
        "    m=[]\n",
        "    b=[]\n",
        " \n",
        "    for i in range(r):\n",
        "      for j in range(c):\n",
        "        v= int(input(\"\\tEnter value for row \"+str(i)+\" column \"+str(j)+\": \"))\n",
        "        b.append(v)\n",
        "      m.append(b)\n",
        "      b=[]\n",
        "   \n",
        "    _matrix.append(m)\n",
        " \n",
        "  return _matrix\n",
        " \n",
        "matrix = createMatrix()\n",
        " \n",
        "# Sample 2 Matrices assigning to m1 & m2\n",
        "m1 = matrix[0]\n",
        "m2 = matrix[1]\n",
        "\n",
        "c=[]\n",
        "\n",
        "for i in range(len(m1)):\n",
        "  if (len(m1) != len(m2)) or (len(m1[i]) != len(m2[i])):\n",
        "    print(\"Not possible\")\n",
        "    break\n",
        "\n",
        "  for j in range(len(m1[i])):\n",
        "    c.append(m1[i][j]+m2[i][j])\n",
        "\n",
        "print(c)"
      ],
      "metadata": {
        "colab": {
          "base_uri": "https://localhost:8080/"
        },
        "id": "lR6SOzjT1Ggf",
        "outputId": "386c22d1-1fff-4992-8cb6-5f099902cbd6"
      },
      "execution_count": 20,
      "outputs": [
        {
          "output_type": "stream",
          "name": "stdout",
          "text": [
            "Enter no. of matrices to create: 2\n",
            "\n",
            "Matrix 1\n",
            "\tEnter no. of rows: 2\n",
            "\tEnter no. of columns: 2\n",
            "\tEnter value for row 0 column 0: 2\n",
            "\tEnter value for row 0 column 1: 2\n",
            "\tEnter value for row 1 column 0: 2\n",
            "\tEnter value for row 1 column 1: 2\n",
            "\n",
            "Matrix 2\n",
            "\tEnter no. of rows: 2\n",
            "\tEnter no. of columns: 2\n",
            "\tEnter value for row 0 column 0: 2\n",
            "\tEnter value for row 0 column 1: 2\n",
            "\tEnter value for row 1 column 0: 2\n",
            "\tEnter value for row 1 column 1: 2\n",
            "[4, 4, 4, 4]\n"
          ]
        }
      ]
    },
    {
      "cell_type": "code",
      "source": [
        "#Given a number N.Find Sum of 1 to N Using Recursion\n",
        "\n",
        "def rec(n):\n",
        "    if n == 0:\n",
        "        return n\n",
        "    return rec(n - 1) + n\n",
        "\n",
        "\n",
        "n = int(input())\n",
        "sum = rec(n)\n",
        "print(sum)"
      ],
      "metadata": {
        "colab": {
          "base_uri": "https://localhost:8080/"
        },
        "id": "xSlE5ROt3mfv",
        "outputId": "e18ef184-4212-4fd4-896b-47e34e9423a0"
      },
      "execution_count": 24,
      "outputs": [
        {
          "output_type": "stream",
          "name": "stdout",
          "text": [
            "5\n",
            "15\n"
          ]
        }
      ]
    },
    {
      "cell_type": "markdown",
      "source": [
        "#Define a function which can generate a dictionary where the keys are numbers between 1 and 20 (both included) and the values are square of keys. The function should just print the values only."
      ],
      "metadata": {
        "id": "dCmf-fNSSQGx"
      }
    },
    {
      "cell_type": "code",
      "source": [
        "def printDict():\n",
        "\td=dict()\n",
        "\tfor i in range(1,21):\n",
        "\t\td[i]=i**2\n",
        "\tfor (k,v) in d.items():\t\n",
        "\t\tprint(v)\n",
        "\n",
        "printDict()"
      ],
      "metadata": {
        "colab": {
          "base_uri": "https://localhost:8080/"
        },
        "id": "TpRCPdIe8nCo",
        "outputId": "d0a87701-5656-4915-d969-6c1db2e0c361"
      },
      "execution_count": 1,
      "outputs": [
        {
          "output_type": "stream",
          "name": "stdout",
          "text": [
            "1\n",
            "4\n",
            "9\n",
            "16\n",
            "25\n",
            "36\n",
            "49\n",
            "64\n",
            "81\n",
            "100\n",
            "121\n",
            "144\n",
            "169\n",
            "196\n",
            "225\n",
            "256\n",
            "289\n",
            "324\n",
            "361\n",
            "400\n"
          ]
        }
      ]
    },
    {
      "cell_type": "markdown",
      "source": [
        "Define a function which can generate and print a list where the values are square of numbers between 1 and 20 (both included)."
      ],
      "metadata": {
        "id": "p2rBcCfqSaiq"
      }
    },
    {
      "cell_type": "code",
      "source": [
        "def printList():\n",
        "\tli=list()\n",
        "\tfor i in range(1,21):\n",
        "\t\tli.append(i**2)\n",
        "\tprint(li)\n",
        "\n",
        "printList()"
      ],
      "metadata": {
        "colab": {
          "base_uri": "https://localhost:8080/"
        },
        "id": "br2pwKSPSSkX",
        "outputId": "cb11d5da-18db-4372-d175-9f644ef4e047"
      },
      "execution_count": 2,
      "outputs": [
        {
          "output_type": "stream",
          "name": "stdout",
          "text": [
            "[1, 4, 9, 16, 25, 36, 49, 64, 81, 100, 121, 144, 169, 196, 225, 256, 289, 324, 361, 400]\n"
          ]
        }
      ]
    },
    {
      "cell_type": "markdown",
      "source": [
        "Define a function which can generate and print a list where the values are square of numbers between 1 and 20 (both included)."
      ],
      "metadata": {
        "id": "QlluBvwmS7Y6"
      }
    },
    {
      "cell_type": "code",
      "source": [
        "def printList():\n",
        "\tli=list()\n",
        "\tfor i in range(1,21):\n",
        "\t\tli.append(i**2)\n",
        "\tprint(li)\n",
        "\n",
        "printList()"
      ],
      "metadata": {
        "colab": {
          "base_uri": "https://localhost:8080/"
        },
        "id": "f9kPyog0SsYn",
        "outputId": "268d0b7f-9cd7-432f-d4ab-b390653d7bb4"
      },
      "execution_count": 4,
      "outputs": [
        {
          "output_type": "stream",
          "name": "stdout",
          "text": [
            "[1, 4, 9, 16, 25, 36, 49, 64, 81, 100, 121, 144, 169, 196, 225, 256, 289, 324, 361, 400]\n"
          ]
        }
      ]
    },
    {
      "cell_type": "markdown",
      "source": [
        "Define a function which can generate a list where the values are square of numbers between 1 and 20 (both included). Then the function needs to print all values except the first 5 elements in the list."
      ],
      "metadata": {
        "id": "fm53gMyDTDxt"
      }
    },
    {
      "cell_type": "code",
      "source": [
        "def printList():\n",
        "\tli=list()\n",
        "\tfor i in range(1,21):\n",
        "\t\tli.append(i**2)\n",
        "\tprint(li[5:])\n",
        "\n",
        "printList()"
      ],
      "metadata": {
        "colab": {
          "base_uri": "https://localhost:8080/"
        },
        "id": "7KJFiKmyS9wX",
        "outputId": "e6e7e8f5-fc4d-410c-8922-467fb19bee4b"
      },
      "execution_count": 6,
      "outputs": [
        {
          "output_type": "stream",
          "name": "stdout",
          "text": [
            "[36, 49, 64, 81, 100, 121, 144, 169, 196, 225, 256, 289, 324, 361, 400]\n"
          ]
        }
      ]
    },
    {
      "cell_type": "markdown",
      "source": [
        "Define a function which can generate and print a tuple where the value are square of numbers between 1 and 20 (both included)."
      ],
      "metadata": {
        "id": "scFcw3NUTPj6"
      }
    },
    {
      "cell_type": "code",
      "source": [
        "def printTuple():\n",
        "\tli=list()\n",
        "\tfor i in range(1,21):\n",
        "\t\tli.append(i**2)\n",
        "\tprint(tuple(li))\n",
        "\t\t\n",
        "printTuple()"
      ],
      "metadata": {
        "colab": {
          "base_uri": "https://localhost:8080/"
        },
        "id": "NHXVI30vTF0u",
        "outputId": "c02c389c-5780-4f43-bf80-7e084b298e18"
      },
      "execution_count": 7,
      "outputs": [
        {
          "output_type": "stream",
          "name": "stdout",
          "text": [
            "(1, 4, 9, 16, 25, 36, 49, 64, 81, 100, 121, 144, 169, 196, 225, 256, 289, 324, 361, 400)\n"
          ]
        }
      ]
    },
    {
      "cell_type": "code",
      "source": [
        "#Define a class named Circle which can be constructed by a radius. The Circle class has a method which can compute the area.\n",
        "\n",
        "class Circle(object):\n",
        "    def __init__(self, r):\n",
        "        self.radius = r\n",
        "\n",
        "    def area(self):\n",
        "        return self.radius**2*3.14\n",
        "\n",
        "aCircle = Circle(2)\n",
        "print(aCircle.area())"
      ],
      "metadata": {
        "colab": {
          "base_uri": "https://localhost:8080/"
        },
        "id": "4Cr0N2qRTSgt",
        "outputId": "d45bf5fe-0bda-4be4-dcb3-1799d98579c8"
      },
      "execution_count": 9,
      "outputs": [
        {
          "output_type": "stream",
          "name": "stdout",
          "text": [
            "12.56\n"
          ]
        }
      ]
    },
    {
      "cell_type": "code",
      "source": [
        "#Write a function to compute 5/0 and use try/except to catch the exceptions.\n",
        "\n",
        "def throws():\n",
        "    return 5/0\n",
        "\n",
        "try:\n",
        "    throws()\n",
        "except ZeroDivisionError:\n",
        "    print(\"division by zero!\")\n",
        "except:\n",
        "    print('Caught an exception')\n",
        "finally:\n",
        "    print('In finally block for cleanup')"
      ],
      "metadata": {
        "colab": {
          "base_uri": "https://localhost:8080/"
        },
        "id": "DKCWhCJmTkI6",
        "outputId": "a259c7ea-4e34-41ad-bb0f-d10cf7b32557"
      },
      "execution_count": 11,
      "outputs": [
        {
          "output_type": "stream",
          "name": "stdout",
          "text": [
            "division by zero!\n",
            "In finally block for cleanup\n"
          ]
        }
      ]
    },
    {
      "cell_type": "code",
      "source": [
        "#Write a binary search function which searches an item in a sorted list. The function should return the index of element to be searched in the list.\n",
        "\n",
        "import math\n",
        "def bin_search(li, element):\n",
        "    bottom = 0\n",
        "    top = len(li)-1\n",
        "    index = -1\n",
        "    while top>=bottom and index==-1:\n",
        "        mid = int(math.floor((top+bottom)/2.0))\n",
        "        if li[mid]==element:\n",
        "            index = mid\n",
        "        elif li[mid]>element:\n",
        "            top = mid-1\n",
        "        else:\n",
        "            bottom = mid+1\n",
        "\n",
        "    return index\n",
        "\n",
        "li=[2,5,7,9,11,17,222]\n",
        "print(bin_search(li,11))\n",
        "print(bin_search(li,12))"
      ],
      "metadata": {
        "colab": {
          "base_uri": "https://localhost:8080/"
        },
        "id": "4vrJVihWTzTN",
        "outputId": "100f9f0b-116a-4fc6-a20d-f5a92dab367f"
      },
      "execution_count": 12,
      "outputs": [
        {
          "output_type": "stream",
          "name": "stdout",
          "text": [
            "4\n",
            "-1\n"
          ]
        }
      ]
    },
    {
      "cell_type": "markdown",
      "source": [
        "Define a class Person and its two child classes: Male and Female. All classes have a method \"getGender\" which can print \"Male\" for Male class and \"Female\" for Female class."
      ],
      "metadata": {
        "id": "lhcj4KpMUloX"
      }
    },
    {
      "cell_type": "code",
      "source": [
        "class Person(object):\n",
        "    def getGender( self ):\n",
        "        return \"Unknown\"\n",
        "\n",
        "class Male( Person ):\n",
        "    def getGender( self ):\n",
        "        return \"Male\"\n",
        "\n",
        "class Female( Person ):\n",
        "    def getGender( self ):\n",
        "        return \"Female\"\n",
        "\n",
        "aMale = Male()\n",
        "aFemale= Female()\n",
        "print(aMale.getGender())\n",
        "print(aFemale.getGender())"
      ],
      "metadata": {
        "colab": {
          "base_uri": "https://localhost:8080/"
        },
        "id": "HR5r50NNUegs",
        "outputId": "c0f062e0-369a-413d-decc-3795338acd3e"
      },
      "execution_count": 14,
      "outputs": [
        {
          "output_type": "stream",
          "name": "stdout",
          "text": [
            "Male\n",
            "Female\n"
          ]
        }
      ]
    },
    {
      "cell_type": "code",
      "source": [
        "#Write a program that accepts a sentence and calculate the number of upper case letters and lower case letters.\n",
        "\n",
        "word = input()\n",
        "upper, lower = 0, 0\n",
        "\n",
        "for i in word:\n",
        "    if \"a\" <= i and i <= \"z\":\n",
        "        lower += 1\n",
        "    if \"A\" <= i and i <= \"Z\":\n",
        "        upper += 1\n",
        "\n",
        "print(\"UPPER CASE {0}\\nLOWER CASE {1}\".format(upper, lower))"
      ],
      "metadata": {
        "colab": {
          "base_uri": "https://localhost:8080/"
        },
        "id": "L2mSwA21Un5n",
        "outputId": "b006987b-1bf6-4582-eb48-769a09b27b9f"
      },
      "execution_count": 15,
      "outputs": [
        {
          "output_type": "stream",
          "name": "stdout",
          "text": [
            "hello World\n",
            "UPPER CASE 1\n",
            "LOWER CASE 9\n"
          ]
        }
      ]
    },
    {
      "cell_type": "markdown",
      "source": [
        "Write a program, which will find all such numbers between 1000 and 3000 (both included) such that each digit of the number is an even number.The numbers obtained should be printed in a comma-separated sequence on a single line."
      ],
      "metadata": {
        "id": "TP3Sq7apebHc"
      }
    },
    {
      "cell_type": "code",
      "source": [
        "lst = []\n",
        "\n",
        "for i in range(1000, 3001):\n",
        "    flag = 1\n",
        "    for j in str(i):  # every integer number i is converted into string\n",
        "        if ord(j) % 2 != 0:  # ord returns ASCII value and j is every digit of i\n",
        "            flag = 0  # flag becomes zero if any odd digit found\n",
        "    if flag == 1:\n",
        "        lst.append(str(i))  # i is stored in list as string\n",
        "\n",
        "print(\",\".join(lst))"
      ],
      "metadata": {
        "colab": {
          "base_uri": "https://localhost:8080/"
        },
        "id": "vjHcX7MMZVzx",
        "outputId": "2191da25-357c-4255-bf03-15b6b665c3fb"
      },
      "execution_count": 16,
      "outputs": [
        {
          "output_type": "stream",
          "name": "stdout",
          "text": [
            "2000,2002,2004,2006,2008,2020,2022,2024,2026,2028,2040,2042,2044,2046,2048,2060,2062,2064,2066,2068,2080,2082,2084,2086,2088,2200,2202,2204,2206,2208,2220,2222,2224,2226,2228,2240,2242,2244,2246,2248,2260,2262,2264,2266,2268,2280,2282,2284,2286,2288,2400,2402,2404,2406,2408,2420,2422,2424,2426,2428,2440,2442,2444,2446,2448,2460,2462,2464,2466,2468,2480,2482,2484,2486,2488,2600,2602,2604,2606,2608,2620,2622,2624,2626,2628,2640,2642,2644,2646,2648,2660,2662,2664,2666,2668,2680,2682,2684,2686,2688,2800,2802,2804,2806,2808,2820,2822,2824,2826,2828,2840,2842,2844,2846,2848,2860,2862,2864,2866,2868,2880,2882,2884,2886,2888\n"
          ]
        }
      ]
    },
    {
      "cell_type": "markdown",
      "source": [
        "Given 2 arrays, first array with N elements and second array with N-1 elements.\n",
        "All elements from the first array exist in the second array, except one. Find the missing number.\n",
        "\n",
        "Sample input:   [1, 2, 3, 4, 5], [1, 2, 3, 4]\n",
        "\n",
        "Sample output:  5"
      ],
      "metadata": {
        "id": "z1gtetzNjDWH"
      }
    },
    {
      "cell_type": "code",
      "source": [
        "def find_missing_number(arr1, arr2):\n",
        "    n = len(arr2)\n",
        "    mod = 10000\t    # this can be every number, this should be true max_length * mod < max_integer\n",
        "    sum_diff = 0\n",
        "    mod_diff = 0\n",
        "    i = 0\n",
        "\n",
        "    while i < n:\n",
        "        # this is in case if we have too big numbers and to big arrays\n",
        "        sum_diff += arr1[i] % mod - arr2[i] % mod\n",
        "        mod_diff += arr1[i] // mod - arr2[i] // mod\n",
        "        i += 1\n",
        "\n",
        "    # don't forget the last element from the first array!\n",
        "    sum_diff += arr1[n] % mod\n",
        "    mod_diff += arr1[n] // mod\n",
        "\n",
        "    return mod * mod_diff + sum_diff"
      ],
      "metadata": {
        "id": "ZtYogP8xed69"
      },
      "execution_count": 19,
      "outputs": []
    },
    {
      "cell_type": "code",
      "source": [
        "# Test 1\n",
        "# Correct result => 33333333\n",
        "arr1 = [2131, 2122221, 64565, 33333333, 994188129, 865342234]\n",
        "arr2 = [994188129, 2122221, 865342234, 2131, 64565]\n",
        "print(find_missing_number(arr1, arr2))"
      ],
      "metadata": {
        "colab": {
          "base_uri": "https://localhost:8080/"
        },
        "id": "vvR6FT_ei7KO",
        "outputId": "b87ff413-114c-41da-fa1c-e95b755fb182"
      },
      "execution_count": 20,
      "outputs": [
        {
          "output_type": "stream",
          "name": "stdout",
          "text": [
            "33333333\n"
          ]
        }
      ]
    },
    {
      "cell_type": "markdown",
      "source": [
        "Find the only missing integer in a sequence,\n",
        "all numbers are integers and they're smaller or equal to N+1 (N is length of the array).\n",
        "\n",
        "Input: [2, 1, 4]\n",
        "\n",
        "Output: 3"
      ],
      "metadata": {
        "id": "TM680hy6jaFS"
      }
    },
    {
      "cell_type": "code",
      "source": [
        "def missing_number(nums):\n",
        "    s = sum(nums)\n",
        "    n = len(nums) + 1\n",
        "    # sum formula (sum of the first n numbers) = (N*(N+1))/2\n",
        "    return n * (n + 1) // 2 - s\n",
        "\n",
        "\n",
        "###########\n",
        "# Testing #\n",
        "###########\n",
        "\n",
        "# Test 1\n",
        "# Correct result => 4\n",
        "print(missing_number([2, 3, 1]))"
      ],
      "metadata": {
        "colab": {
          "base_uri": "https://localhost:8080/"
        },
        "id": "Tjirrhu1jAik",
        "outputId": "49f4648e-dd0d-4492-ce93-a075f6c2d449"
      },
      "execution_count": 21,
      "outputs": [
        {
          "output_type": "stream",
          "name": "stdout",
          "text": [
            "4\n"
          ]
        }
      ]
    },
    {
      "cell_type": "markdown",
      "source": [
        "A peak element is an element that is greater than its neighbors.\n",
        "Given an input array nums, where nums[i] ≠ nums[i+1], find a peak element and return its index.\n",
        "\n",
        "The array may contain multiple peaks, in that case return the index to any one of the peaks is fine.\n",
        "\n",
        "You may imagine that nums[-1] = nums[n] = -∞.\n",
        "\n",
        "Input: [1, 2, 3, 1]\n",
        "\n",
        "Output: 2\n",
        "\n",
        "Output explanation: 3 is a peak element and your function should return the index number 2."
      ],
      "metadata": {
        "id": "gxiMA1z5joMt"
      }
    },
    {
      "cell_type": "code",
      "source": [
        "def find_peak_element(nums):\n",
        "    l = 0\n",
        "    r = len(nums) - 1\n",
        "\n",
        "    while l < r:\n",
        "        mid = (l + r) // 2\n",
        "        if nums[mid] > nums[mid + 1]:\n",
        "            # go left if the current value is smaller than the next one\n",
        "            # in this moment you're sure that there is a peak element left from this one\n",
        "            r = mid\n",
        "        else:\n",
        "            # go right if the current value is smaller than the next one\n",
        "            # if the l comes to the end and all elements were in ascending order, then the last one is peak (because nums[n] is negative infinity)\n",
        "            l = mid + 1\n",
        "\n",
        "    return l\n",
        "\n",
        "\n",
        "###########\n",
        "# Testing #\n",
        "###########\n",
        "\n",
        "# Test 1\n",
        "# Correct result => 2\n",
        "print(find_peak_element([1, 2, 3, 1]))"
      ],
      "metadata": {
        "colab": {
          "base_uri": "https://localhost:8080/"
        },
        "id": "2K_00OFBjfAW",
        "outputId": "a234c86f-d2c6-43f8-bdad-7e2803e29a24"
      },
      "execution_count": 22,
      "outputs": [
        {
          "output_type": "stream",
          "name": "stdout",
          "text": [
            "2\n"
          ]
        }
      ]
    },
    {
      "cell_type": "markdown",
      "source": [
        "Array rotation/shifting\n",
        "\n",
        "Rotate array in right (or left) for K places.\n",
        "\n",
        "Input: [1, 2, 3, 4, 5, 6], 1\n",
        "\n",
        "Output: [6, 1, 2, 3, 4, 5]\n",
        "\n",
        "Input: [1, 2, 3, 4, 5, 6], 3\n",
        "\n",
        "Output: [4, 5, 6, 1, 2, 3]"
      ],
      "metadata": {
        "id": "LxZFawcrmSlx"
      }
    },
    {
      "cell_type": "code",
      "source": [
        "def rotate_array_1(arr, k, right = True):\n",
        "    n = len(arr)\n",
        "    right %= n\n",
        "\n",
        "    # going right for K places is same like going left for N-K places\n",
        "    if right:\n",
        "        k = n - k\n",
        "\n",
        "    # the shortest way to swap 2 parts of the array\n",
        "    return arr[k:] + arr[:k]"
      ],
      "metadata": {
        "id": "bxct0WD3jvqb"
      },
      "execution_count": 23,
      "outputs": []
    },
    {
      "cell_type": "code",
      "source": [
        "# Test 1\n",
        "# Correct result => [4, 5, 6, 7, 8, 9, 10, 1, 2, 3]\n",
        "arr = [1, 2, 3, 4, 5, 6, 7, 8, 9, 10]\n",
        "k = 7\n",
        "print(rotate_array_1(arr, k))"
      ],
      "metadata": {
        "colab": {
          "base_uri": "https://localhost:8080/"
        },
        "id": "fibuFjpYmYca",
        "outputId": "c0143f88-06ab-403f-caab-39e5596e35be"
      },
      "execution_count": 25,
      "outputs": [
        {
          "output_type": "stream",
          "name": "stdout",
          "text": [
            "[4, 5, 6, 7, 8, 9, 10, 1, 2, 3]\n"
          ]
        }
      ]
    },
    {
      "cell_type": "code",
      "source": [
        "#Reverse array\n",
        "\n",
        "def reverse_arr(arr):\n",
        "    start = 0\n",
        "    end = len(arr) - 1\n",
        "\n",
        "    while start < end:\n",
        "        # reverse the array from the start index to the end index by\n",
        "        # swaping each element with the pair from the other part of the array\n",
        "        swap(arr, start, end)\n",
        "        start += 1\n",
        "        end -= 1\n",
        "\n",
        "    return arr\n",
        "\n",
        "def swap(arr, i, j):\n",
        "    # swapping two elements from a same array\n",
        "    arr[i], arr[j] = arr[j], arr[i]\n",
        "    '''same as\n",
        "    temp = arr[i]\n",
        "    arr[i] = arr[j]\n",
        "    arr[j] = temp\n",
        "    '''\n",
        "\n",
        "\n",
        "###########\n",
        "# Testing #\n",
        "###########\n",
        "\n",
        "# Test 1\n",
        "# Correct result => [10, 9, 8, 7, 6, 5, 4, 3, 2, 1]\n",
        "print(reverse_arr([1, 2, 3, 4, 5, 6, 7, 8, 9, 10]))\n",
        "\n",
        "# Test 2\n",
        "# Correct result => [5, 4, 3, 2, 1]\n",
        "print(reverse_arr([1, 2, 3, 4, 5]))"
      ],
      "metadata": {
        "colab": {
          "base_uri": "https://localhost:8080/"
        },
        "id": "IcZe1-MDmcko",
        "outputId": "705df278-d440-464e-ffb4-bc7264135e01"
      },
      "execution_count": 26,
      "outputs": [
        {
          "output_type": "stream",
          "name": "stdout",
          "text": [
            "[10, 9, 8, 7, 6, 5, 4, 3, 2, 1]\n",
            "[5, 4, 3, 2, 1]\n"
          ]
        }
      ]
    },
    {
      "cell_type": "markdown",
      "source": [
        "Array rotation/shifting\n",
        "\n",
        "Rotate array in right (or left) for K places.\n",
        "\n",
        "Input: [1, 2, 3, 4, 5, 6], 1\n",
        "\n",
        "Output: [6, 1, 2, 3, 4, 5]\n",
        "\n",
        "Input: [1, 2, 3, 4, 5, 6], 3\n",
        "\n",
        "Output: [4, 5, 6, 1, 2, 3]"
      ],
      "metadata": {
        "id": "ODEtQC2Jp2Jb"
      }
    },
    {
      "cell_type": "code",
      "source": [
        "def rotate_array_1(arr, k, right = True):\n",
        "    n = len(arr)\n",
        "    right %= n\n",
        "\n",
        "    # going right for K places is same like going left for N-K places\n",
        "    if right:\n",
        "        k = n - k\n",
        "\n",
        "    # the shortest way to swap 2 parts of the array\n",
        "    return arr[k:] + arr[:k]"
      ],
      "metadata": {
        "id": "cjtDA4N_oo3a"
      },
      "execution_count": 27,
      "outputs": []
    },
    {
      "cell_type": "code",
      "source": [
        "# Correct result => [4, 5, 6, 7, 8, 9, 10, 1, 2, 3]\n",
        "arr = [1, 2, 3, 4, 5, 6, 7, 8, 9, 10]\n",
        "k = 7\n",
        "print(rotate_array_1(arr, k))"
      ],
      "metadata": {
        "colab": {
          "base_uri": "https://localhost:8080/"
        },
        "id": "L4RP3Qt-p6Yj",
        "outputId": "5728210f-1a15-4ad9-bc4d-e5cd954df26c"
      },
      "execution_count": 28,
      "outputs": [
        {
          "output_type": "stream",
          "name": "stdout",
          "text": [
            "[4, 5, 6, 7, 8, 9, 10, 1, 2, 3]\n"
          ]
        }
      ]
    },
    {
      "cell_type": "code",
      "source": [
        "# Correct result => [6, 1, 2, 3, 4, 5]\n",
        "arr = [1, 2, 3, 4, 5, 6]\n",
        "k = 1\n",
        "print(rotate_array_1(arr, k))"
      ],
      "metadata": {
        "colab": {
          "base_uri": "https://localhost:8080/"
        },
        "id": "sF-sNzrSp9P2",
        "outputId": "a464398f-973f-479b-caf9-be5788996a26"
      },
      "execution_count": 29,
      "outputs": [
        {
          "output_type": "stream",
          "name": "stdout",
          "text": [
            "[6, 1, 2, 3, 4, 5]\n"
          ]
        }
      ]
    },
    {
      "cell_type": "markdown",
      "source": [
        "Majority Element\n",
        "\n",
        "Given an array of size n, find the majority element.\n",
        "\n",
        "The majority element is the element that appears more than ⌊ n/2 ⌋ times.\n",
        "\n",
        "You may assume that the array is non-empty and the majority element always exist in the array.\n",
        "\n",
        "Input: [3, 2, 3]\n",
        "\n",
        "Output: 3\n",
        "\n",
        "Input: [2, 2, 1, 1, 1, 2, 2]\n",
        "\n",
        "Output: 2"
      ],
      "metadata": {
        "id": "AwxEJ87MqV-F"
      }
    },
    {
      "cell_type": "code",
      "source": [
        "def majority_element_2(nums):\n",
        "    counter = {}\n",
        "\n",
        "    for num in nums:\n",
        "        if num in counter:\n",
        "            counter[num] += 1\n",
        "        else:\n",
        "            counter[num] = 1\n",
        "\n",
        "    half = len(nums) // 2\n",
        "    for num in counter:\n",
        "        if counter[num] > half:\n",
        "            return num\n"
      ],
      "metadata": {
        "id": "PZkkPVpfqF5k"
      },
      "execution_count": 30,
      "outputs": []
    },
    {
      "cell_type": "code",
      "source": [
        "arr = [3, 2, 3]\n",
        "print(majority_element_2(arr))"
      ],
      "metadata": {
        "colab": {
          "base_uri": "https://localhost:8080/"
        },
        "id": "BHPNSx72qdVi",
        "outputId": "9fc6197e-052d-473c-f84c-cf9717e704ee"
      },
      "execution_count": 33,
      "outputs": [
        {
          "output_type": "stream",
          "name": "stdout",
          "text": [
            "3\n"
          ]
        }
      ]
    },
    {
      "cell_type": "code",
      "source": [
        "arr = [2, 2, 1, 1, 1, 2, 2]\n",
        "print(majority_element_2(arr))"
      ],
      "metadata": {
        "colab": {
          "base_uri": "https://localhost:8080/"
        },
        "id": "k0fcivc0qh8_",
        "outputId": "b621bbd7-6986-4efe-a86f-1ad73067f768"
      },
      "execution_count": 34,
      "outputs": [
        {
          "output_type": "stream",
          "name": "stdout",
          "text": [
            "2\n"
          ]
        }
      ]
    },
    {
      "cell_type": "code",
      "source": [
        "import random\n",
        "\n",
        "random.seed()\n",
        "\n",
        "num = random.randint(1, 100)\n",
        "\n",
        "def guess_num(num, num1):\n",
        "    if num > num1:\n",
        "        return (\"Too low.\")\n",
        "    elif num < num1:\n",
        "        return (\"Too high.\")\n",
        "    else:\n",
        "        return \"yes\"\n",
        "    \n",
        "print(\"\\nGame starts.\\nType exit to quit.\")\n",
        "count = 0\n",
        "while True:\n",
        "    num1 = input(\"Guess the number: \")\n",
        "    count += 1\n",
        "    if num1 == \"exit\":\n",
        "        break\n",
        "    \n",
        "    result = guess_num(num, int(num1))\n",
        "    if result == \"yes\":\n",
        "        print(\"Congrats!!! You have guessed the correct number in \" + str(count) + \" attempts.\")\n",
        "        break\n",
        "    else:\n",
        "        print(result)\n",
        "        continue\n",
        "\n",
        "\n",
        "# Number guessing game"
      ],
      "metadata": {
        "colab": {
          "base_uri": "https://localhost:8080/"
        },
        "id": "WPVL-0hWqrPJ",
        "outputId": "1e2dae75-0c51-42a7-d396-693adca36249"
      },
      "execution_count": 35,
      "outputs": [
        {
          "output_type": "stream",
          "name": "stdout",
          "text": [
            "\n",
            "Game starts.\n",
            "Type exit to quit.\n",
            "Guess the number: 56\n",
            "Too high.\n",
            "Guess the number: 30\n",
            "Too low.\n",
            "Guess the number: 40\n",
            "Too low.\n",
            "Guess the number: 45\n",
            "Too low.\n",
            "Guess the number: 48\n",
            "Too low.\n",
            "Guess the number: 49\n",
            "Congrats!!! You have guessed the correct number in 6 attempts.\n"
          ]
        }
      ]
    },
    {
      "cell_type": "code",
      "source": [
        ""
      ],
      "metadata": {
        "id": "u0YZOhj5sE2X"
      },
      "execution_count": null,
      "outputs": []
    }
  ]
}